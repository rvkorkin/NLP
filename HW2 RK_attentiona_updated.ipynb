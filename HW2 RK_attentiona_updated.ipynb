{
  "cells": [
    {
      "cell_type": "markdown",
      "metadata": {
        "id": "a_S6Wtq12Ue_"
      },
      "source": [
        "## Practice: Attention Basics\n",
        "Original notebook is provided by Udacity at [github](https://github.com/udacity/deep-learning-v2-pytorch/blob/master/attention/Attention_Basics.ipynb).\n",
        "\n",
        "In this notebook, we look at how attention is implemented. We will focus on implementing attention in isolation from a larger model. That's because when implementing attention in a real-world model, a lot of the focus goes into piping the data and juggling the various vectors rather than the concepts of attention themselves.\n",
        "\n",
        "We will implement attention scoring as well as calculating an attention context vector.\n",
        "\n",
        "## Attention Scoring\n",
        "### Inputs to the scoring function\n",
        "Let's start by looking at the inputs we'll give to the scoring function. We will assume we're in the first step in the decoding phase. The first input to the scoring function is the hidden state of decoder (assuming a toy RNN with three hidden nodes -- not usable in real life, but easier to illustrate):"
      ]
    },
    {
      "cell_type": "code",
      "execution_count": 1,
      "metadata": {
        "id": "iI5dXHIR2UfH"
      },
      "outputs": [],
      "source": [
        "dec_hidden_state = [5,1,20]"
      ]
    },
    {
      "cell_type": "markdown",
      "metadata": {
        "id": "mTBQJEWL2UfI"
      },
      "source": [
        "Let's visualize this vector:"
      ]
    },
    {
      "cell_type": "code",
      "execution_count": 2,
      "metadata": {
        "id": "-_JlwZ-H2UfJ",
        "colab": {
          "base_uri": "https://localhost:8080/",
          "height": 314
        },
        "outputId": "6b10c2f7-fba4-4640-fda7-6b873d63653f"
      },
      "outputs": [
        {
          "output_type": "execute_result",
          "data": {
            "text/plain": [
              "<matplotlib.axes._subplots.AxesSubplot at 0x7f9ec6087d10>"
            ]
          },
          "metadata": {},
          "execution_count": 2
        },
        {
          "output_type": "display_data",
          "data": {
            "image/png": "[encoded data removed]",
            "text/plain": [
              "<Figure size 108x324 with 2 Axes>"
            ]
          },
          "metadata": {
            "needs_background": "light"
          }
        }
      ],
      "source": [
        "%matplotlib inline\n",
        "import numpy as np\n",
        "import matplotlib.pyplot as plt\n",
        "import seaborn as sns\n",
        "\n",
        "# Let's visualize our decoder hidden state\n",
        "plt.figure(figsize=(1.5, 4.5))\n",
        "sns.heatmap(np.transpose(np.matrix(dec_hidden_state)), annot=True, cmap=sns.light_palette(\"purple\", as_cmap=True), linewidths=1)"
      ]
    },
    {
      "cell_type": "markdown",
      "metadata": {
        "id": "cSPiJgiF2UfJ"
      },
      "source": [
        "Our first scoring function will score a single annotation (encoder hidden state), which looks like this:"
      ]
    },
    {
      "cell_type": "code",
      "execution_count": 3,
      "metadata": {
        "id": "o0gRwmls2UfJ"
      },
      "outputs": [],
      "source": [
        "annotation = [3,12,45] #e.g. Encoder hidden state"
      ]
    },
    {
      "cell_type": "code",
      "execution_count": 4,
      "metadata": {
        "id": "ZiMWlY2r2UfK",
        "colab": {
          "base_uri": "https://localhost:8080/",
          "height": 314
        },
        "outputId": "d0ebcf5e-7eab-4799-d58c-bac80e47fd41"
      },
      "outputs": [
        {
          "output_type": "execute_result",
          "data": {
            "text/plain": [
              "<matplotlib.axes._subplots.AxesSubplot at 0x7f9ebcf90a50>"
            ]
          },
          "metadata": {},
          "execution_count": 4
        },
        {
          "output_type": "display_data",
          "data": {
            "image/png": "[encoded data removed]",
            "text/plain": [
              "<Figure size 108x324 with 2 Axes>"
            ]
          },
          "metadata": {
            "needs_background": "light"
          }
        }
      ],
      "source": [
        "# Let's visualize the single annotation\n",
        "plt.figure(figsize=(1.5, 4.5))\n",
        "sns.heatmap(np.transpose(np.matrix(annotation)), annot=True, cmap=sns.light_palette(\"orange\", as_cmap=True), linewidths=1)"
      ]
    },
    {
      "cell_type": "markdown",
      "metadata": {
        "id": "St5gq5WW2UfK"
      },
      "source": [
        "### IMPLEMENT: Scoring a Single Annotation\n",
        "Let's calculate the dot product of a single annotation. NumPy's [dot()](https://docs.scipy.org/doc/numpy/reference/generated/numpy.dot.html) is a good candidate for this operation"
      ]
    },
    {
      "cell_type": "code",
      "execution_count": 5,
      "metadata": {
        "id": "OYcjCK852UfK",
        "colab": {
          "base_uri": "https://localhost:8080/"
        },
        "outputId": "30ffc871-4b3c-4e5d-a18f-db80c2b3cb7f"
      },
      "outputs": [
        {
          "output_type": "execute_result",
          "data": {
            "text/plain": [
              "927"
            ]
          },
          "metadata": {},
          "execution_count": 5
        }
      ],
      "source": [
        "def single_dot_attention_score(dec_hidden_state, enc_hidden_state):\n",
        "    # TODO: return the dot product of the two vectors\n",
        "    return np.asarray(dec_hidden_state).dot(enc_hidden_state)\n",
        "      \n",
        "single_dot_attention_score(dec_hidden_state, annotation)"
      ]
    },
    {
      "cell_type": "code",
      "source": [
        "annotation"
      ],
      "metadata": {
        "colab": {
          "base_uri": "https://localhost:8080/"
        },
        "id": "0ouUZT1ilRic",
        "outputId": "d53690de-7bde-4c60-be4f-214bd07ab9ba"
      },
      "execution_count": 6,
      "outputs": [
        {
          "output_type": "execute_result",
          "data": {
            "text/plain": [
              "[3, 12, 45]"
            ]
          },
          "metadata": {},
          "execution_count": 6
        }
      ]
    },
    {
      "cell_type": "markdown",
      "metadata": {
        "id": "xbNsHkJt2UfL"
      },
      "source": [
        "\n",
        "### Annotations Matrix\n",
        "Let's now look at scoring all the annotations at once. To do that, here's our annotation matrix:"
      ]
    },
    {
      "cell_type": "code",
      "execution_count": 7,
      "metadata": {
        "id": "bY9zRQY02UfL"
      },
      "outputs": [],
      "source": [
        "annotations = np.transpose([[3,12,45], [59,2,5], [1,43,5], [4,3,45.3]])"
      ]
    },
    {
      "cell_type": "markdown",
      "metadata": {
        "id": "lgdZTMqY2UfL"
      },
      "source": [
        "And it can be visualized like this (each column is a hidden state of an encoder time step):"
      ]
    },
    {
      "cell_type": "code",
      "execution_count": 8,
      "metadata": {
        "id": "T6QbJqcK2UfM",
        "colab": {
          "base_uri": "https://localhost:8080/",
          "height": 265
        },
        "outputId": "a854fffe-8c85-4a7d-9aa4-1992db2883c5"
      },
      "outputs": [
        {
          "output_type": "display_data",
          "data": {
            "image/png": "[encoded data removed]",
            "text/plain": [
              "<Figure size 432x288 with 2 Axes>"
            ]
          },
          "metadata": {
            "needs_background": "light"
          }
        }
      ],
      "source": [
        "# Let's visualize our annotation (each column is an annotation)\n",
        "ax = sns.heatmap(annotations, annot=True, cmap=sns.light_palette(\"orange\", as_cmap=True), linewidths=1)"
      ]
    },
    {
      "cell_type": "markdown",
      "metadata": {
        "id": "_artZ2TO2UfM"
      },
      "source": [
        "### IMPLEMENT: Scoring All Annotations at Once\n",
        "Let's calculate the scores of all the annotations in one step using matrix multiplication. Let's continue to us the dot scoring method\n",
        "\n",
        "<img src=\"https://github.com/neychev/made_nlp_course/blob/master/week05_machine_translation/img/scoring_functions.png?raw=1\" />\n",
        "\n",
        "To do that, we'll have to transpose `dec_hidden_state` and [matrix multiply](https://docs.scipy.org/doc/numpy/reference/generated/numpy.matmul.html) it with `annotations`."
      ]
    },
    {
      "cell_type": "code",
      "execution_count": 9,
      "metadata": {
        "id": "xvONIxPQ2UfM",
        "colab": {
          "base_uri": "https://localhost:8080/"
        },
        "outputId": "3addf9a7-08d5-4cd2-803b-383ee42cd03d"
      },
      "outputs": [
        {
          "output_type": "execute_result",
          "data": {
            "text/plain": [
              "array([927., 397., 148., 929.])"
            ]
          },
          "metadata": {},
          "execution_count": 9
        }
      ],
      "source": [
        "def dot_attention_score(dec_hidden_state, annotations):\n",
        "    # TODO: return the product of dec_hidden_state transpose and enc_hidden_states\n",
        "    return np.dot(dec_hidden_state, annotations)\n",
        "    \n",
        "attention_weights_raw = dot_attention_score(dec_hidden_state, annotations)\n",
        "attention_weights_raw"
      ]
    },
    {
      "cell_type": "markdown",
      "metadata": {
        "id": "vxLyauqp2UfN"
      },
      "source": [
        "Looking at these scores, can you guess which of the four vectors will get the most attention from the decoder at this time step?\n",
        "\n",
        "## Softmax\n",
        "Now that we have our scores, let's apply softmax:\n",
        "<img src=\"https://github.com/neychev/made_nlp_course/blob/master/week05_machine_translation/img/softmax.png?raw=1\" />"
      ]
    },
    {
      "cell_type": "code",
      "execution_count": 10,
      "metadata": {
        "id": "mn43BQTF2UfN",
        "colab": {
          "base_uri": "https://localhost:8080/"
        },
        "outputId": "3e4b86aa-5bd3-48d5-f88a-b32dd96eb969"
      },
      "outputs": [
        {
          "output_type": "execute_result",
          "data": {
            "text/plain": [
              "array([1.19202922e-001, 7.94715151e-232, 5.76614420e-340, 8.80797078e-001],\n",
              "      dtype=float128)"
            ]
          },
          "metadata": {},
          "execution_count": 10
        }
      ],
      "source": [
        "def softmax(x):\n",
        "    x = np.array(x, dtype=np.float128)\n",
        "    e_x = np.exp(x)\n",
        "    return e_x / e_x.sum(axis=0) \n",
        "\n",
        "attention_weights = softmax(attention_weights_raw)\n",
        "attention_weights"
      ]
    },
    {
      "cell_type": "markdown",
      "metadata": {
        "id": "kkQaLCgc2UfO"
      },
      "source": [
        "Even when knowing which annotation will get the most focus, it's interesting to see how drastic softmax makes the end score become. The first and last annotation had the respective scores of 927 and 929. But after softmax, the attention they'll get is 0.12 and 0.88 respectively.\n",
        "\n",
        "# Applying the scores back on the annotations\n",
        "Now that we have our scores, let's multiply each annotation by its score to proceed closer to the attention context vector. This is the multiplication part of this formula (we'll tackle the summation part in the latter cells)\n",
        "\n",
        "<img src=\"https://github.com/neychev/made_nlp_course/blob/master/week05_machine_translation/img/Context_vector.png?raw=1\" />"
      ]
    },
    {
      "cell_type": "code",
      "execution_count": 11,
      "metadata": {
        "id": "_TXxJZ1J2UfP",
        "colab": {
          "base_uri": "https://localhost:8080/"
        },
        "outputId": "b82c157b-4f54-4cb7-ae5d-4cb3a4768814"
      },
      "outputs": [
        {
          "output_type": "execute_result",
          "data": {
            "text/plain": [
              "array([[3.57608766e-001, 4.68881939e-230, 5.76614420e-340,\n",
              "        3.52318831e+000],\n",
              "       [1.43043506e+000, 1.58943030e-231, 2.47944200e-338,\n",
              "        2.64239123e+000],\n",
              "       [5.36413149e+000, 3.97357575e-231, 2.88307210e-339,\n",
              "        3.99001076e+001]], dtype=float128)"
            ]
          },
          "metadata": {},
          "execution_count": 11
        }
      ],
      "source": [
        "def apply_attention_scores(attention_weights, annotations):\n",
        "    # TODO: Multiple the annotations by their weights\n",
        "    return attention_weights[None, :] * np.asanyarray(annotations)\n",
        "\n",
        "applied_attention = apply_attention_scores(attention_weights, annotations)\n",
        "applied_attention"
      ]
    },
    {
      "cell_type": "markdown",
      "metadata": {
        "id": "SJPJRjv82UfP"
      },
      "source": [
        "Let's visualize how the context vector looks now that we've applied the attention scores back on it:"
      ]
    },
    {
      "cell_type": "code",
      "execution_count": 12,
      "metadata": {
        "id": "Gt8sXXu12UfP",
        "colab": {
          "base_uri": "https://localhost:8080/",
          "height": 265
        },
        "outputId": "86aa4b6c-3f0a-4630-fd74-4baa301806bf"
      },
      "outputs": [
        {
          "output_type": "display_data",
          "data": {
            "image/png": "[encoded data removed]",
            "text/plain": [
              "<Figure size 432x288 with 2 Axes>"
            ]
          },
          "metadata": {
            "needs_background": "light"
          }
        }
      ],
      "source": [
        "# Let's visualize our annotations after applying attention to them\n",
        "ax = sns.heatmap(applied_attention, annot=True, cmap=sns.light_palette(\"orange\", as_cmap=True), linewidths=1)"
      ]
    },
    {
      "cell_type": "markdown",
      "metadata": {
        "id": "RSb4kks12UfP"
      },
      "source": [
        "Contrast this with the raw annotations visualized earlier in the notebook, and we can see that the second and third annotations (columns) have been nearly wiped out. The first annotation maintains some of its value, and the fourth annotation is the most pronounced.\n",
        "\n",
        "# Calculating the Attention Context Vector\n",
        "All that remains to produce our attention context vector now is to sum up the four columns to produce a single attention context vector\n"
      ]
    },
    {
      "cell_type": "code",
      "execution_count": 13,
      "metadata": {
        "id": "3Zbt_LpR2UfQ",
        "colab": {
          "base_uri": "https://localhost:8080/"
        },
        "outputId": "66a668ef-c65a-49a4-f391-b18f3c47d444"
      },
      "outputs": [
        {
          "output_type": "execute_result",
          "data": {
            "text/plain": [
              "array([ 3.88079708,  4.0728263 , 45.26423912], dtype=float128)"
            ]
          },
          "metadata": {},
          "execution_count": 13
        }
      ],
      "source": [
        "def calculate_attention_vector(applied_attention):\n",
        "    return np.sum(applied_attention, axis=1)\n",
        "\n",
        "attention_vector = calculate_attention_vector(applied_attention)\n",
        "attention_vector"
      ]
    },
    {
      "cell_type": "code",
      "execution_count": 14,
      "metadata": {
        "id": "Tw-4QKzd2UfQ",
        "scrolled": false,
        "colab": {
          "base_uri": "https://localhost:8080/",
          "height": 312
        },
        "outputId": "ba79d6e3-c1d4-46ca-a7bf-a247e62c1a77"
      },
      "outputs": [
        {
          "output_type": "execute_result",
          "data": {
            "text/plain": [
              "<matplotlib.axes._subplots.AxesSubplot at 0x7f9ebc90e450>"
            ]
          },
          "metadata": {},
          "execution_count": 14
        },
        {
          "output_type": "display_data",
          "data": {
            "image/png": "[encoded data removed]",
            "text/plain": [
              "<Figure size 108x324 with 2 Axes>"
            ]
          },
          "metadata": {
            "needs_background": "light"
          }
        }
      ],
      "source": [
        "# Let's visualize the attention context vector\n",
        "plt.figure(figsize=(1.5, 4.5))\n",
        "sns.heatmap(np.transpose(np.matrix(attention_vector)), annot=True, cmap=sns.light_palette(\"Blue\", as_cmap=True), linewidths=1)"
      ]
    },
    {
      "cell_type": "markdown",
      "metadata": {
        "id": "Hwkn15ro2UfR"
      },
      "source": [
        "Now that we have the context vector, we can concatenate it with the hidden state and pass it through a hidden layer to produce the the result of this decoding time step."
      ]
    },
    {
      "cell_type": "markdown",
      "metadata": {
        "id": "NVIXJVzq2UfR"
      },
      "source": [
        "### Your turn:\n",
        "Now implement the _general_ and _concat_ attention scores and check it below."
      ]
    },
    {
      "cell_type": "code",
      "execution_count": 15,
      "metadata": {
        "id": "3QTmklVJ2UfR",
        "colab": {
          "base_uri": "https://localhost:8080/"
        },
        "outputId": "3d1d765c-b134-45a8-9d10-ae7b4232d4e3"
      },
      "outputs": [
        {
          "output_type": "execute_result",
          "data": {
            "text/plain": [
              "array([362.4621281 ,  81.68267129, 847.89170542, 189.42890815])"
            ]
          },
          "metadata": {},
          "execution_count": 15
        }
      ],
      "source": [
        "# Yeah, you need to initialize the matrix first (just use random, the main idea is the dimentionality)\n",
        "Wa = np.random.randn(9).reshape(3, 3) # <YOUR CODE HERE> \n",
        "def general_attention_score(dec_hidden_state, annotations, Wa):\n",
        "    # TODO: return the product of dec_hidden_state transpose and enc_hidden_states\n",
        "    return np.matmul(np.transpose(dec_hidden_state), np.dot(Wa, annotations))\n",
        "    \n",
        "attention_weights_raw = general_attention_score(dec_hidden_state, annotations, Wa)\n",
        "attention_weights_raw"
      ]
    },
    {
      "cell_type": "code",
      "execution_count": 16,
      "metadata": {
        "id": "snluEPb32UfR"
      },
      "outputs": [],
      "source": [
        "# Some post-processing like above"
      ]
    },
    {
      "cell_type": "code",
      "execution_count": 17,
      "metadata": {
        "id": "t4TnmJBu2UfS",
        "colab": {
          "base_uri": "https://localhost:8080/"
        },
        "outputId": "c1f5a948-6c74-4ad1-b78e-cc3967be8755"
      },
      "outputs": [
        {
          "output_type": "execute_result",
          "data": {
            "text/plain": [
              "array([-0.7676892 , -0.83123333, -0.69278188, -0.77758635])"
            ]
          },
          "metadata": {},
          "execution_count": 17
        }
      ],
      "source": [
        "# And here you need to initialize both the vector v and the matrix Wa (\n",
        "# (again, random is fine)\n",
        "\n",
        "Wa = np.random.randn(9).reshape(3, 3) # <YOUR CODE HERE> \n",
        "va = np.random.randn(6) # <YOUR CODE HERE> \n",
        "def concat_attention_score(dec_hidden_state, annotations, Wa, va):\n",
        "    # TODO: return the product of dec_hidden_state transpose and enc_hidden_states\n",
        "    v_tmp = np.tanh(np.vstack((annotations, np.tile(np.array(dec_hidden_state)[:, np.newaxis], 4))))\n",
        "    return np.dot(va, v_tmp)\n",
        "    \n",
        "attention_weights_raw = concat_attention_score(dec_hidden_state, annotations, Wa, va)\n",
        "attention_weights_raw"
      ]
    },
    {
      "cell_type": "code",
      "execution_count": 18,
      "metadata": {
        "id": "mHd1vF_72UfS"
      },
      "outputs": [],
      "source": [
        "# And again some post-processing"
      ]
    }
  ],
  "metadata": {
    "accelerator": "GPU",
    "anaconda-cloud": {},
    "colab": {
      "name": "HW2.ipynb",
      "provenance": []
    },
    "kernelspec": {
      "display_name": "Py3 Research",
      "language": "python",
      "name": "py3_research"
    },
    "language_info": {
      "codemirror_mode": {
        "name": "ipython",
        "version": 3
      },
      "file_extension": ".py",
      "mimetype": "text/x-python",
      "name": "python",
      "nbconvert_exporter": "python",
      "pygments_lexer": "ipython3",
      "version": "3.7.7"
    }
  },
  "nbformat": 4,
  "nbformat_minor": 0
}