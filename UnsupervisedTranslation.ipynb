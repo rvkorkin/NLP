{
 "cells": [
  {
   "cell_type": "markdown",
   "metadata": {
    "id": "eulvfJWl7ueY"
   },
   "source": [
    "# Lab 1\n",
    "\n",
    "\n",
    "## Part 1: Bilingual dictionary induction and unsupervised embedding-based MT (30%)\n",
    "*Note: this homework is based on materials from yandexdataschool [NLP course](https://github.com/yandexdataschool/nlp_course/). Feel free to check this awesome course if you wish to dig deeper.*\n",
    "\n",
    "*Refined by [Nikolay Karpachev](https://www.linkedin.com/in/nikolay-karpachev-b0146a104/)*"
   ]
  },
  {
   "cell_type": "markdown",
   "metadata": {
    "id": "fV4rIjxa7uei"
   },
   "source": [
    "**In this homework** **<font color='red'>YOU</font>** will make machine translation system without using parallel corpora, alignment, attention, 100500 depth super-cool recurrent neural network and all that kind superstuff.\n",
    "\n",
    "But even without parallel corpora this system can be good enough (hopefully), in particular for similar languages, e.g. Ukrainian and Russian. "
   ]
  },
  {
   "cell_type": "markdown",
   "metadata": {
    "id": "idSYq2GU7uew"
   },
   "source": [
    "### Frament of the Swadesh list for some slavic languages\n",
    "\n",
    "The Swadesh list is a lexicostatistical stuff. It's named after American linguist Morris Swadesh and contains basic lexis. This list are used to define subgroupings of languages, its relatedness.\n",
    "\n",
    "So we can see some kind of word invariance for different Slavic languages.\n",
    "\n",
    "\n",
    "| Russian         | Belorussian              | Ukrainian               | Polish             | Czech                         | Bulgarian            |\n",
    "|-----------------|--------------------------|-------------------------|--------------------|-------------------------------|-----------------------|\n",
    "| женщина         | жанчына, кабета, баба    | жінка                   | kobieta            | žena                          | жена                  |\n",
    "| мужчина         | мужчына                  | чоловік, мужчина        | mężczyzna          | muž                           | мъж                   |\n",
    "| человек         | чалавек                  | людина, чоловік         | człowiek           | člověk                        | човек                 |\n",
    "| ребёнок, дитя   | дзіця, дзіцёнак, немаўля | дитина, дитя            | dziecko            | dítě                          | дете                  |\n",
    "| жена            | жонка                    | дружина, жінка          | żona               | žena, manželka, choť          | съпруга, жена         |\n",
    "| муж             | муж, гаспадар            | чоловiк, муж            | mąż                | muž, manžel, choť             | съпруг, мъж           |\n",
    "| мать, мама      | маці, матка              | мати, матір, неня, мама | matka              | matka, máma, 'стар.' mateř    | майка                 |\n",
    "| отец, тятя      | бацька, тата             | батько, тато, татусь    | ojciec             | otec                          | баща, татко           |\n",
    "| много           | шмат, багата             | багато                  | wiele              | mnoho, hodně                  | много                 |\n",
    "| несколько       | некалькі, колькі         | декілька, кілька        | kilka              | několik, pár, trocha          | няколко               |\n",
    "| другой, иной    | іншы                     | інший                   | inny               | druhý, jiný                   | друг                  |\n",
    "| зверь, животное | жывёла, звер, істота     | тварина, звір           | zwierzę            | zvíře                         | животно               |\n",
    "| рыба            | рыба                     | риба                    | ryba               | ryba                          | риба                  |\n",
    "| птица           | птушка                   | птах, птиця             | ptak               | pták                          | птица                 |\n",
    "| собака, пёс     | сабака                   | собака, пес             | pies               | pes                           | куче, пес             |\n",
    "| вошь            | вош                      | воша                    | wesz               | veš                           | въшка                 |\n",
    "| змея, гад       | змяя                     | змія, гад               | wąż                | had                           | змия                  |\n",
    "| червь, червяк   | чарвяк                   | хробак, черв'як         | robak              | červ                          | червей                |\n",
    "| дерево          | дрэва                    | дерево                  | drzewo             | strom, dřevo                  | дърво                 |\n",
    "| лес             | лес                      | ліс                     | las                | les                           | гора, лес             |\n",
    "| палка           | кій, палка               | палиця                  | patyk, pręt, pałka | hůl, klacek, prut, kůl, pálka | палка, пръчка, бастун |"
   ]
  },
  {
   "cell_type": "markdown",
   "metadata": {
    "id": "cNM3_fjr7ue2"
   },
   "source": [
    "But the context distribution of these languages demonstrates even more invariance. And we can use this fact for our for our purposes."
   ]
  },
  {
   "cell_type": "markdown",
   "metadata": {
    "id": "YLppwa527ue6"
   },
   "source": [
    "## Data"
   ]
  },
  {
   "cell_type": "code",
   "execution_count": 1,
   "metadata": {
    "id": "lYBGKAUn7ue_"
   },
   "outputs": [],
   "source": [
    "import gensim\n",
    "import numpy as np\n",
    "from gensim.models import KeyedVectors"
   ]
  },
  {
   "cell_type": "markdown",
   "metadata": {
    "id": "MwGoVhRA7ufP"
   },
   "source": [
    "In this notebook we're going to use pretrained word vectors - FastText (original paper - https://arxiv.org/abs/1607.04606).\n",
    "\n",
    "You can download them from the official [website](https://fasttext.cc/docs/en/crawl-vectors.html). We're going to need embeddings for Russian and Ukrainian languages. Please use word2vec-compatible format (.text)."
   ]
  },
  {
   "cell_type": "code",
   "execution_count": 270,
   "metadata": {
    "id": "u1JjQv_97ufT"
   },
   "outputs": [],
   "source": [
    "uk_emb = KeyedVectors.load_word2vec_format(\"cc.uk.300.vec\")"
   ]
  },
  {
   "cell_type": "code",
   "execution_count": 271,
   "metadata": {
    "id": "ffzuept_7ufd"
   },
   "outputs": [],
   "source": [
    "ru_emb = KeyedVectors.load_word2vec_format(\"cc.ru.300.vec\")"
   ]
  },
  {
   "cell_type": "code",
   "execution_count": 272,
   "metadata": {
    "id": "nTkXfT0W7ufk"
   },
   "outputs": [
    {
     "data": {
      "text/plain": [
       "[('август', 1.0),\n",
       " ('июль', 0.9383153319358826),\n",
       " ('сентябрь', 0.9240028858184814),\n",
       " ('июнь', 0.9222576022148132),\n",
       " ('октябрь', 0.9095539450645447),\n",
       " ('ноябрь', 0.8930035829544067),\n",
       " ('апрель', 0.8729087114334106),\n",
       " ('декабрь', 0.8652557730674744),\n",
       " ('март', 0.8545796871185303),\n",
       " ('февраль', 0.8401416540145874)]"
      ]
     },
     "execution_count": 272,
     "metadata": {},
     "output_type": "execute_result"
    }
   ],
   "source": [
    "ru_emb.most_similar([ru_emb[\"август\"]], topn=10)"
   ]
  },
  {
   "cell_type": "code",
   "execution_count": 273,
   "metadata": {
    "id": "vdBA8lcg7ufs"
   },
   "outputs": [
    {
     "data": {
      "text/plain": [
       "[('серпень', 1.0),\n",
       " ('липень', 0.9096439480781555),\n",
       " ('вересень', 0.9016969203948975),\n",
       " ('червень', 0.8992519974708557),\n",
       " ('жовтень', 0.8810408115386963),\n",
       " ('листопад', 0.8787633776664734),\n",
       " ('квітень', 0.8592804670333862),\n",
       " ('грудень', 0.8586863279342651),\n",
       " ('травень', 0.8408110737800598),\n",
       " ('лютий', 0.8256431221961975)]"
      ]
     },
     "execution_count": 273,
     "metadata": {},
     "output_type": "execute_result"
    }
   ],
   "source": [
    "uk_emb.most_similar([uk_emb[\"серпень\"]])"
   ]
  },
  {
   "cell_type": "code",
   "execution_count": 274,
   "metadata": {
    "id": "_yJvcKXO7uf0"
   },
   "outputs": [
    {
     "data": {
      "text/plain": [
       "[('Stepashka.com', 0.2757962942123413),\n",
       " ('ЖИЗНИВадим', 0.25203439593315125),\n",
       " ('2Дмитрий', 0.25048112869262695),\n",
       " ('2012Дмитрий', 0.24829229712486267),\n",
       " ('Ведущий-Алексей', 0.2443869709968567),\n",
       " ('Недопустимость', 0.24435287714004517),\n",
       " ('2Михаил', 0.23981398344039917),\n",
       " ('лексей', 0.23740758001804352),\n",
       " ('комплексн', 0.23695147037506104),\n",
       " ('персональ', 0.2368222177028656)]"
      ]
     },
     "execution_count": 274,
     "metadata": {},
     "output_type": "execute_result"
    }
   ],
   "source": [
    "ru_emb.most_similar([uk_emb[\"серпень\"]])"
   ]
  },
  {
   "cell_type": "markdown",
   "metadata": {
    "id": "pNdYAR1q7uf6"
   },
   "source": [
    "Load small dictionaries for correspoinding words pairs as trainset and testset."
   ]
  },
  {
   "cell_type": "code",
   "execution_count": 275,
   "metadata": {
    "id": "35d_DAK67uf8"
   },
   "outputs": [],
   "source": [
    "def load_word_pairs(filename):\n",
    "    uk_ru_pairs = []\n",
    "    uk_vectors = []\n",
    "    ru_vectors = []\n",
    "    with open(filename, \"r\", encoding=\"utf-8\") as inpf:\n",
    "        for line in inpf:\n",
    "            uk, ru = line.rstrip().split(\"\\t\")\n",
    "            if uk not in uk_emb or ru not in ru_emb:\n",
    "                continue\n",
    "            uk_ru_pairs.append((uk, ru))\n",
    "            uk_vectors.append(uk_emb[uk])\n",
    "            ru_vectors.append(ru_emb[ru])\n",
    "    return uk_ru_pairs, np.array(uk_vectors), np.array(ru_vectors)"
   ]
  },
  {
   "cell_type": "code",
   "execution_count": 276,
   "metadata": {
    "id": "wkNL602WHJyO"
   },
   "outputs": [],
   "source": [
    "#!wget -O ukr_rus.train.txt http://tiny.cc/jfgecz"
   ]
  },
  {
   "cell_type": "code",
   "execution_count": 277,
   "metadata": {
    "id": "uoclU6JcHCcn"
   },
   "outputs": [],
   "source": [
    "#!wget -O ukr_rus.test.txt http://tiny.cc/6zoeez"
   ]
  },
  {
   "cell_type": "code",
   "execution_count": 278,
   "metadata": {
    "id": "05BqsdSK7ugD"
   },
   "outputs": [],
   "source": [
    "uk_ru_train, X_train, Y_train = load_word_pairs(\"ukr_rus.train.txt\")"
   ]
  },
  {
   "cell_type": "code",
   "execution_count": 279,
   "metadata": {
    "id": "zQOZw51r7ugL"
   },
   "outputs": [],
   "source": [
    "uk_ru_test, X_test, Y_test = load_word_pairs(\"ukr_rus.test.txt\")"
   ]
  },
  {
   "cell_type": "markdown",
   "metadata": {
    "id": "-ZBBNvpz7ugQ"
   },
   "source": [
    "## Embedding space mapping (0.3 pts)"
   ]
  },
  {
   "cell_type": "markdown",
   "metadata": {
    "id": "x_Dhk5gL7ugS"
   },
   "source": [
    "Let $x_i \\in \\mathrm{R}^d$ be the distributed representation of word $i$ in the source language, and $y_i \\in \\mathrm{R}^d$ is the vector representation of its translation. Our purpose is to learn such linear transform $W$ that minimizes euclidian distance between $Wx_i$ and $y_i$ for some subset of word embeddings. Thus we can formulate so-called Procrustes problem:\n",
    "\n",
    "$$W^*= \\arg\\min_W \\sum_{i=1}^n||Wx_i - y_i||_2$$\n",
    "or\n",
    "$$W^*= \\arg\\min_W ||WX - Y||_F$$\n",
    "\n",
    "where $||*||_F$ - Frobenius norm."
   ]
  },
  {
   "cell_type": "markdown",
   "metadata": {
    "id": "acOjDdtL7ugY"
   },
   "source": [
    "$W^*= \\arg\\min_W \\sum_{i=1}^n||Wx_i - y_i||_2$ looks like simple multiple linear regression (without intercept fit). So let's code."
   ]
  },
  {
   "cell_type": "code",
   "execution_count": 280,
   "metadata": {
    "id": "Lb-KN1be7uga"
   },
   "outputs": [],
   "source": [
    "from sklearn.linear_model import LinearRegression\n",
    "\n",
    "# YOUR CODE HERE\n",
    "mapping = LinearRegression()\n",
    "\n",
    "# Train the model using the training sets\n",
    "mapping.fit(X_train, Y_train)\n",
    "\n",
    "# Make predictions using the testing set\n",
    "Y_pred = mapping.predict(X_test)\n",
    "W = mapping.coef_"
   ]
  },
  {
   "cell_type": "markdown",
   "metadata": {
    "id": "X7tqJwoY7ugf"
   },
   "source": [
    "Let's take a look at neigbours of the vector of word _\"серпень\"_ (_\"август\"_ in Russian) after linear transform."
   ]
  },
  {
   "cell_type": "code",
   "execution_count": 281,
   "metadata": {
    "id": "31SrFSbn7ugi"
   },
   "outputs": [
    {
     "data": {
      "text/plain": [
       "[('апрель', 0.8531404137611389),\n",
       " ('июнь', 0.8402308225631714),\n",
       " ('март', 0.8385775089263916),\n",
       " ('сентябрь', 0.8331868648529053),\n",
       " ('февраль', 0.8311494588851929),\n",
       " ('октябрь', 0.8278172016143799),\n",
       " ('ноябрь', 0.8244151473045349),\n",
       " ('июль', 0.822899580001831),\n",
       " ('август', 0.8112362623214722),\n",
       " ('январь', 0.8022860288619995)]"
      ]
     },
     "execution_count": 281,
     "metadata": {},
     "output_type": "execute_result"
    }
   ],
   "source": [
    "august = mapping.predict(uk_emb[\"серпень\"].reshape(1, -1))\n",
    "ru_emb.most_similar(august)"
   ]
  },
  {
   "cell_type": "code",
   "execution_count": 282,
   "metadata": {},
   "outputs": [
    {
     "data": {
      "text/plain": [
       "(1, 1)"
      ]
     },
     "execution_count": 282,
     "metadata": {},
     "output_type": "execute_result"
    }
   ],
   "source": [
    "len([(\"серпень\", \"август\")]), len(august)"
   ]
  },
  {
   "cell_type": "markdown",
   "metadata": {
    "id": "okSkjk597ugo"
   },
   "source": [
    "We can see that neighbourhood of this embedding consists of different months, but right variant is on the ninth place."
   ]
  },
  {
   "cell_type": "markdown",
   "metadata": {
    "id": "o2uY6Y9B7ugt"
   },
   "source": [
    "As quality measure we will use precision top-1, top-5 and top-10 (for each transformed Ukrainian embedding we count how many right target pairs are found in top N nearest neighbours in Russian embedding space)."
   ]
  },
  {
   "cell_type": "code",
   "execution_count": 327,
   "metadata": {
    "id": "zptuho8LAfIE"
   },
   "outputs": [],
   "source": [
    "def precision(pairs, mapped_vectors, topn=1):\n",
    "    \"\"\"\n",
    "    :args:\n",
    "        pairs = list of right word pairs [(uk_word_0, ru_word_0), ...]\n",
    "        mapped_vectors = list of embeddings after mapping from source embedding space to destination embedding space\n",
    "        topn = the number of nearest neighbours in destination embedding space to choose from\n",
    "    :returns:\n",
    "        precision_val, float number, total number of words for those we can find right translation at top K.\n",
    "    \"\"\"\n",
    "    assert len(pairs) == len(mapped_vectors)\n",
    "    num_matches = 0\n",
    "    for i, (_, ru) in enumerate(pairs):\n",
    "        # YOUR CODE HERE\n",
    "        #word = mapping.predict(uk_emb[pairs[i][0]].reshape(1, -1))\n",
    "        word = mapped_vectors[i]\n",
    "        similar = ru_emb.most_similar([word], topn=topn)\n",
    "        #print(similar)\n",
    "        for el in similar:\n",
    "            num_matches += (el[0] == ru)\n",
    "    precision_val = num_matches / len(pairs)\n",
    "    return precision_val"
   ]
  },
  {
   "cell_type": "code",
   "execution_count": 328,
   "metadata": {
    "id": "duhj9hpv7ugy"
   },
   "outputs": [],
   "source": [
    "assert precision([(\"серпень\", \"август\")], august, topn=5) == 0.0\n",
    "assert precision([(\"серпень\", \"август\")], august, topn=9) == 1.0\n",
    "assert precision([(\"серпень\", \"август\")], august, topn=10) == 1.0"
   ]
  },
  {
   "cell_type": "code",
   "execution_count": 331,
   "metadata": {
    "id": "0-iyd5gP7ug5"
   },
   "outputs": [],
   "source": [
    "assert precision(uk_ru_test, X_test) == 0.0\n",
    "assert precision(uk_ru_test, Y_test) == 1.0"
   ]
  },
  {
   "cell_type": "code",
   "execution_count": 332,
   "metadata": {
    "id": "U-ssEJ3x7uhA"
   },
   "outputs": [],
   "source": [
    "precision_top1 = precision(uk_ru_test, mapping.predict(X_test), 1)\n",
    "precision_top5 = precision(uk_ru_test, mapping.predict(X_test), 5)"
   ]
  },
  {
   "cell_type": "code",
   "execution_count": 333,
   "metadata": {
    "id": "7K-hy7a6Ksn2"
   },
   "outputs": [
    {
     "name": "stdout",
     "output_type": "stream",
     "text": [
      "0.6259541984732825\n",
      "0.7913486005089059\n"
     ]
    }
   ],
   "source": [
    "print(precision_top1)\n",
    "print(precision_top5)"
   ]
  },
  {
   "cell_type": "markdown",
   "metadata": {
    "id": "hf6Ou8bx7uhH"
   },
   "source": [
    "## Making it better (orthogonal Procrustean problem) (0.3 pts)"
   ]
  },
  {
   "cell_type": "markdown",
   "metadata": {
    "id": "4oLs-drN7uhK"
   },
   "source": [
    "It can be shown (see original paper) that a self-consistent linear mapping between semantic spaces should be orthogonal. \n",
    "We can restrict transform $W$ to be orthogonal. Then we will solve next problem:\n",
    "\n",
    "$$W^*= \\arg\\min_W ||WX - Y||_F \\text{, where: } W^TW = I$$\n",
    "\n",
    "$$I \\text{- identity matrix}$$\n",
    "\n",
    "Instead of making yet another regression problem we can find optimal orthogonal transformation using singular value decomposition. It turns out that optimal transformation $W^*$ can be expressed via SVD components:\n",
    "$$X^TY=U\\Sigma V^T\\text{, singular value decompostion}$$\n",
    "$$W^*=UV^T$$"
   ]
  },
  {
   "cell_type": "code",
   "execution_count": 334,
   "metadata": {
    "id": "_KSaRJFGMFiJ"
   },
   "outputs": [],
   "source": [
    "import numpy as np"
   ]
  },
  {
   "cell_type": "code",
   "execution_count": 399,
   "metadata": {
    "id": "DdFQ7qti7uhL"
   },
   "outputs": [],
   "source": [
    "def learn_transform(X_train, Y_train):\n",
    "    \"\"\" \n",
    "    :returns: W* : float matrix[emb_dim x emb_dim] as defined in formulae above\n",
    "    \"\"\"\n",
    "    from sklearn.decomposition import TruncatedSVD\n",
    "    svd = TruncatedSVD(299)\n",
    "    matr = np.transpose(X_train) @ Y_train\n",
    "    U = svd.fit_transform(matr) / svd.singular_values_\n",
    "    VT = svd.components_\n",
    "    mapping = np.matmul(U, VT)  # output of TruncatedSVD\n",
    "    # YOUR CODE GOES HERE\n",
    "    # compute orthogonal embedding space mapping\n",
    "    # mapping = ...\n",
    "\n",
    "    return mapping"
   ]
  },
  {
   "cell_type": "code",
   "execution_count": 400,
   "metadata": {
    "id": "7X7QfYDd7uhQ"
   },
   "outputs": [],
   "source": [
    "W = learn_transform(X_train, Y_train)"
   ]
  },
  {
   "cell_type": "code",
   "execution_count": 401,
   "metadata": {
    "id": "OVOFYYa37uhX"
   },
   "outputs": [
    {
     "data": {
      "text/plain": [
       "[('апрель', 0.8245381116867065),\n",
       " ('июнь', 0.8056143522262573),\n",
       " ('сентябрь', 0.8055691719055176),\n",
       " ('март', 0.8033100366592407),\n",
       " ('октябрь', 0.7987180948257446),\n",
       " ('июль', 0.7946286201477051),\n",
       " ('ноябрь', 0.7939659357070923),\n",
       " ('август', 0.7937638163566589),\n",
       " ('февраль', 0.7923961281776428),\n",
       " ('декабрь', 0.7715296745300293)]"
      ]
     },
     "execution_count": 401,
     "metadata": {},
     "output_type": "execute_result"
    }
   ],
   "source": [
    "ru_emb.most_similar([np.matmul(uk_emb[\"серпень\"], W)], topn=10)"
   ]
  },
  {
   "cell_type": "code",
   "execution_count": 402,
   "metadata": {
    "id": "r297sYP37uhb"
   },
   "outputs": [
    {
     "name": "stdout",
     "output_type": "stream",
     "text": [
      "0.6463104325699746\n",
      "0.7989821882951654\n"
     ]
    }
   ],
   "source": [
    "print(precision(uk_ru_test, np.matmul(X_test, W)))\n",
    "print(precision(uk_ru_test, np.matmul(X_test, W), 5))"
   ]
  },
  {
   "cell_type": "markdown",
   "metadata": {
    "id": "hvUZ72U5AfJg"
   },
   "source": [
    "## Unsupervised embedding-based MT (0.4 pts)"
   ]
  },
  {
   "cell_type": "markdown",
   "metadata": {
    "id": "LLyuVfHBLrJn"
   },
   "source": [
    "Now, let's build our word embeddings-based translator!"
   ]
  },
  {
   "cell_type": "markdown",
   "metadata": {
    "id": "tPAURW1CMuP7"
   },
   "source": [
    "Firstly, download OPUS Tatoeba corpus."
   ]
  },
  {
   "cell_type": "code",
   "execution_count": 403,
   "metadata": {
    "id": "F80kUKzQMsDu"
   },
   "outputs": [],
   "source": [
    "#!wget https://object.pouta.csc.fi/OPUS-Tatoeba/v20190709/mono/uk.txt.gz"
   ]
  },
  {
   "cell_type": "code",
   "execution_count": 404,
   "metadata": {
    "id": "0CGFZoxCUVf1"
   },
   "outputs": [],
   "source": [
    "#!gzip -d ./uk.txt.gz"
   ]
  },
  {
   "cell_type": "code",
   "execution_count": 605,
   "metadata": {
    "id": "2MV3VvoVUX5U"
   },
   "outputs": [],
   "source": [
    "with open('./uk.txt', 'r', encoding=\"utf8\") as f:\n",
    "    uk_corpus = f.readlines()"
   ]
  },
  {
   "cell_type": "code",
   "execution_count": 606,
   "metadata": {
    "id": "tU7nPVf0UhbI"
   },
   "outputs": [],
   "source": [
    "# To save your time and CPU, feel free to use first 1000 sentences of the corpus\n",
    "uk_corpus = uk_corpus[:1000]"
   ]
  },
  {
   "cell_type": "code",
   "execution_count": 607,
   "metadata": {},
   "outputs": [
    {
     "data": {
      "text/plain": [
       "['Я вже закінчу коледж, коли ви вернетеся з Америки.\\n',\n",
       " 'Він наказав мені негайно вийти з кімнати.\\n',\n",
       " 'Як би ти не намагався, ти не вивчиш англійську за два-три місяці.\\n',\n",
       " 'Поки я не подзвонив, він не прийшов.\\n',\n",
       " 'У всесвіті багато галактик.\\n']"
      ]
     },
     "execution_count": 607,
     "metadata": {},
     "output_type": "execute_result"
    }
   ],
   "source": [
    "uk_corpus[:5]"
   ]
  },
  {
   "cell_type": "code",
   "execution_count": 609,
   "metadata": {},
   "outputs": [
    {
     "data": {
      "text/plain": [
       "[['я',\n",
       "  'вже',\n",
       "  'закінчу',\n",
       "  'коледж',\n",
       "  ',',\n",
       "  'коли',\n",
       "  'ви',\n",
       "  'вернетеся',\n",
       "  'з',\n",
       "  'америки',\n",
       "  '.'],\n",
       " ['він', 'наказав', 'мені', 'негайно', 'вийти', 'з', 'кімнати', '.'],\n",
       " ['як',\n",
       "  'би',\n",
       "  'ти',\n",
       "  'не',\n",
       "  'намагався',\n",
       "  ',',\n",
       "  'ти',\n",
       "  'не',\n",
       "  'вивчиш',\n",
       "  'англійську',\n",
       "  'за',\n",
       "  'два',\n",
       "  '-',\n",
       "  'три',\n",
       "  'місяці',\n",
       "  '.'],\n",
       " ['поки', 'я', 'не', 'подзвонив', ',', 'він', 'не', 'прийшов', '.'],\n",
       " ['у', 'всесвіті', 'багато', 'галактик', '.']]"
      ]
     },
     "execution_count": 609,
     "metadata": {},
     "output_type": "execute_result"
    }
   ],
   "source": [
    "from nltk.tokenize import WordPunctTokenizer\n",
    "\n",
    "tokenizer = WordPunctTokenizer()\n",
    "uk_corpus = [tokenizer.tokenize(x.lower()) for x in uk_corpus]\n",
    "\n",
    "uk_corpus[:5]"
   ]
  },
  {
   "cell_type": "code",
   "execution_count": 628,
   "metadata": {
    "id": "FGksC7l_NMi9"
   },
   "outputs": [],
   "source": [
    "def translate(sentence):\n",
    "    \"\"\"\n",
    "    :args:\n",
    "        sentence - sentence in Ukrainian (str)\n",
    "    :returns:\n",
    "        translation - sentence in Russian (str)\n",
    "\n",
    "    * find ukrainian embedding for each word in sentence\n",
    "    * transform ukrainian embedding vector\n",
    "    * find nearest russian word and replace\n",
    "    \"\"\"\n",
    "    #sentence = (sentence).split()\n",
    "    translated = []\n",
    "    # YOUR CODE GOES HERE\n",
    "    if type(sentence) == str:\n",
    "        sentence = sentence.split()\n",
    "    for word in sentence:\n",
    "        if word == ' ':\n",
    "            continue\n",
    "        elif word not in uk_emb:\n",
    "            translated.append('UNK')\n",
    "        else:\n",
    "            translated.append(ru_emb.most_similar([np.matmul(uk_emb[word], W)], topn=1)[0][0])\n",
    "    return ' '.join(translated)"
   ]
  },
  {
   "cell_type": "code",
   "execution_count": 629,
   "metadata": {
    "id": "4hbbMy-tNxlf"
   },
   "outputs": [],
   "source": [
    "assert translate(\".\") == \".\"\n",
    "assert translate(\"1 , 3\") == \"1 , 3\"\n",
    "assert translate(\"кіт зловив мишу\") == \"кот поймал мышку\""
   ]
  },
  {
   "cell_type": "markdown",
   "metadata": {
    "id": "ia6I2ce7O_HI"
   },
   "source": [
    "Now you can play with your model and try to get as accurate translations as possible. **Note**: one big issue is out-of-vocabulary words. Try to think of various ways of handling it (you can start with translating each of them to a special **UNK** token and then move to more sophisticated approaches). Good luck!"
   ]
  },
  {
   "cell_type": "code",
   "execution_count": 630,
   "metadata": {
    "id": "ap1W7ZCeOAVU"
   },
   "outputs": [
    {
     "name": "stdout",
     "output_type": "stream",
     "text": [
      "мной уже закончу колледж , когда мы прибежишь со америки .\n",
      "город бомбили враждебные самолеты .\n",
      "возможно , мной антисоциальный , конечно это не означает , что мной не общаюсь со людьми .\n",
      "этого утра выпала роса .\n",
      "беда не приходит одна .\n",
      "посмотри по тот дым .\n",
      "мной заказал два гамбургера .\n",
      "мной не хотел никого обидеть .\n",
      "гора покрыта снегом .\n",
      "по фотографии во девушки корона не со золота , а со цветов .\n",
      "во меня То мечта .\n",
      "мной приехал во UNK со китая .\n",
      "по север находится UNK ; по юге — англия ; по востоке — англо-саксонский ; и ещe дальше по востоке — северная шотландия .\n",
      "его родная страна — германия .\n",
      "Уотертаун — столица ирландии .\n",
      "он ждал по него к десятой часа .\n",
      "ты можешь взять ту книгу даром .\n",
      "этот роман сочинил известный американский писатель .\n",
      "забронировать , будте ласковые , комнату возле международного аэропорта во UNK .\n",
      "он знает , что ты его влюбится ?\n",
      "мной знаю , что ты богатый .\n",
      "те , кто всё забывают , счастливые .\n",
      "во этой реке опасно плавать .\n",
      "пришел , увидел , победил .\n",
      "мной хожу к школы пешком .\n",
      "не моя дело !\n",
      "не забудь билет .\n",
      "кто он ?\n",
      "мы будете чай ли кофе ?\n",
      "он не пойдет по пикник , как и мной .\n",
      "когда мы родились ?\n",
      "это моя любимая песня .\n",
      "мы почти семь со мной .\n",
      "который красивый сегодня месяц !\n",
      "мной против любой – которых войны .\n",
      "поверхность воздушной шары — UNK пространство , потому для неё не выполняются правила симметрической геометрии .\n",
      "дескать , что американцы считают количество денег , какую зарабатывает женщина , мерилом его умение .\n",
      "можно мной UNK это платье ?\n",
      "если будет красивая погода , мы доберёмся туда завтра .\n",
      "это был злой заяц .\n",
      "один , два , три , четыре , аш со пять , восемь , семь , восемь , девять со пять , десять .\n",
      "кто во любви не знает , тот горя не знает .\n",
      "его иметь волнуется за него .\n",
      "мной уважаю тех , кто старается со всех сил .\n",
      "эта дружба переросла во глубокое любовь .\n",
      "джастин аш со То много молока каждый день .\n",
      "он вор .\n",
      "шумового загрязнение можно было бы UNK только если бы люди были более чувствительны к окружающей среды .\n",
      "чай со лимоном , будте ласковые .\n",
      "не путать желание со влюбленностью .\n",
      "мной бы со удовольствием сочинил сотни текста-рассуждения во UNK со и , конечно во меня То дела .\n",
      "дайте мне чашечку кофе .\n",
      "конечно же ты никогда мне о это не рассказывала !\n",
      "во тебя будут проблемы , если твои родители узнают .\n",
      "запах роз наполнил комнату .\n",
      "как во тебя дела ?\n",
      "это мои штаны .\n",
      "ни , спасибо .\n",
      "мной не понимаю , почему германия победила по Евровиденье .\n",
      "хороший вечер .\n",
      "со UNK UNK UNK поприветствовал президент беларуссии борис путина. .\n",
      "привольный путь — широкий пояс со далеких звёзд , каждая звезда — солнце , такое как наше .\n",
      "необычайно видеть рок – звёзд со галстук !\n",
      "всё печенье во форме звёзд .\n",
      "что мне одеть — штаны ли юбку ?\n",
      "UNK UNK — известный московский скульптор .\n",
      "то был злой кролик .\n",
      "можешь взять любой – который , что тебе к отвратиться .\n",
      "конечно мной пойду .\n",
      "шелковичные прядут коконы .\n",
      "что бы ты сделала , если бы во тебя было , замечу , десять тысяч долларов ?\n",
      "он думает , что он кто-то , а действительно он никто .\n",
      "она очень гордится своею коллекцией марок .\n",
      "он очень простой ...\n",
      "она ты добра !\n",
      "как мной за тобой соскучился !\n",
      "это всё , что мной знаю .\n",
      "ты ведёшь дневник ?\n",
      "тебе решать .\n",
      "это почта , а то — банк .\n",
      "это всё , что мной хочу сделать .\n",
      "мной впервые смотрю такой страшный фильм .\n",
      "та песня напоминает мне о дом .\n",
      "UNK здесь ?\n",
      "меня зовут джэк .\n",
      "как женщина живет , так она и умрет .\n",
      "мной здесь уже две часа .\n",
      "мне надо извиниться перед ен .\n",
      "сегодня мной видел скворца .\n",
      "« сколько стоить та носовая косыночка UNK — « девять со двадцать аш со пять центов UNK\n",
      "раненные медведи , как правило , очень опасные .\n",
      "он быстро устает .\n",
      "все готовы .\n",
      "он скучает по своей семь со мье .\n",
      "« спасибо UNK — « по здоровье со мной UNK\n",
      "мной ещe не знаю своего адреса , мной определенный момент буду жить во подруги .\n",
      "амазонка — вторая по длине река во мире после трепещущая .\n",
      "а если увидишь тома , передай ему от меня поздравления .\n",
      "закрой за собой дверь .\n",
      "держи при себе словарь .\n"
     ]
    }
   ],
   "source": [
    "for sent in uk_corpus[::10]:\n",
    "    print(translate(sent))"
   ]
  },
  {
   "cell_type": "markdown",
   "metadata": {
    "id": "FkSaIrjxA0Tv"
   },
   "source": [
    "Great! \n",
    "See second notebook for the Neural Machine Translation assignment."
   ]
  },
  {
   "cell_type": "code",
   "execution_count": 640,
   "metadata": {},
   "outputs": [],
   "source": [
    "def translate_smart(sentence):\n",
    "    translated = []\n",
    "    # YOUR CODE GOES HERE\n",
    "    if type(sentence) == str:\n",
    "        sentence = sentence.split()\n",
    "    for word in sentence:\n",
    "        if word == ' ':\n",
    "            continue\n",
    "        else:\n",
    "            while word not in uk_emb:\n",
    "                word = word[:-1]\n",
    "        translated.append(ru_emb.most_similar([np.matmul(uk_emb[word], W)], topn=1)[0][0])\n",
    "    return ' '.join(translated)"
   ]
  },
  {
   "cell_type": "code",
   "execution_count": 641,
   "metadata": {},
   "outputs": [
    {
     "name": "stdout",
     "output_type": "stream",
     "text": [
      "мной уже закончу колледж , когда мы прибежишь со америки .\n",
      "город бомбили враждебные самолеты .\n",
      "возможно , мной антисоциальный , конечно это не означает , что мной не общаюсь со людьми .\n",
      "этого утра выпала роса .\n",
      "беда не приходит одна .\n",
      "посмотри по тот дым .\n",
      "мной заказал два гамбургера .\n",
      "мной не хотел никого обидеть .\n",
      "гора покрыта снегом .\n",
      "по фотографии во девушки корона не со золота , а со цветов .\n",
      "во меня То мечта .\n",
      "мной приехал во нихон со китая .\n",
      "по север находится Uí ; по юге — англия ; по востоке — англо-саксонский ; и ещe дальше по востоке — северная шотландия .\n",
      "его родная страна — германия .\n",
      "Уотертаун — столица ирландии .\n",
      "он ждал по него к десятой часа .\n",
      "ты можешь взять ту книгу даром .\n",
      "этот роман сочинил известный американский писатель .\n",
      "забронировать , будте ласковые , комнату возле международного аэропорта во зоро .\n",
      "он знает , что ты его влюбится ?\n",
      "мной знаю , что ты богатый .\n",
      "те , кто всё забывают , счастливые .\n",
      "во этой реке опасно плавать .\n",
      "пришел , увидел , победил .\n",
      "мной хожу к школы пешком .\n",
      "не моя дело !\n",
      "не забудь билет .\n",
      "кто он ?\n",
      "мы будете чай ли кофе ?\n",
      "он не пойдет по пикник , как и мной .\n",
      "когда мы родились ?\n",
      "это моя любимая песня .\n",
      "мы почти семь со мной .\n",
      "который красивый сегодня месяц !\n",
      "мной против любой – которых войны .\n",
      "поверхность воздушной шары — оня пространство , потому для неё не выполняются правила симметрической геометрии .\n",
      "дескать , что американцы считают количество денег , какую зарабатывает женщина , мерилом его умение .\n",
      "можно мной пример это платье ?\n",
      "если будет красивая погода , мы доберёмся туда завтра .\n",
      "это был злой заяц .\n",
      "один , два , три , четыре , аш со пять , восемь , семь , восемь , девять со пять , десять .\n",
      "кто во любви не знает , тот горя не знает .\n",
      "его иметь волнуется за него .\n",
      "мной уважаю тех , кто старается со всех сил .\n",
      "эта дружба переросла во глубокое любовь .\n",
      "джастин аш со То много молока каждый день .\n",
      "он вор .\n",
      "шумового загрязнение можно было бы избавится только если бы люди были более чувствительны к окружающей среды .\n",
      "чай со лимоном , будте ласковые .\n",
      "не путать желание со влюбленностью .\n",
      "мной бы со удовольствием сочинил сотни текста-рассуждения во parmi со и , конечно во меня То дела .\n",
      "дайте мне чашечку кофе .\n",
      "конечно же ты никогда мне о это не рассказывала !\n",
      "во тебя будут проблемы , если твои родители узнают .\n",
      "запах роз наполнил комнату .\n",
      "как во тебя дела ?\n",
      "это мои штаны .\n",
      "ни , спасибо .\n",
      "мной не понимаю , почему германия победила по Евровиденье .\n",
      "хороший вечер .\n",
      "со Цу вун танец поприветствовал президент беларуссии борис путина. .\n",
      "привольный путь — широкий пояс со далеких звёзд , каждая звезда — солнце , такое как наше .\n",
      "необычайно видеть рок – звёзд со галстук !\n",
      "всё печенье во форме звёзд .\n",
      "что мне одеть — штаны ли юбку ?\n",
      "закалка амм — известный московский скульптор .\n",
      "то был злой кролик .\n",
      "можешь взять любой – который , что тебе к отвратиться .\n",
      "конечно мной пойду .\n",
      "шелковичные прядут коконы .\n",
      "что бы ты сделала , если бы во тебя было , замечу , десять тысяч долларов ?\n",
      "он думает , что он кто-то , а действительно он никто .\n",
      "она очень гордится своею коллекцией марок .\n",
      "он очень простой ...\n",
      "она ты добра !\n",
      "как мной за тобой соскучился !\n",
      "это всё , что мной знаю .\n",
      "ты ведёшь дневник ?\n",
      "тебе решать .\n",
      "это почта , а то — банк .\n",
      "это всё , что мной хочу сделать .\n",
      "мной впервые смотрю такой страшный фильм .\n",
      "та песня напоминает мне о дом .\n",
      "журавля здесь ?\n",
      "меня зовут джэк .\n",
      "как женщина живет , так она и умрет .\n",
      "мной здесь уже две часа .\n",
      "мне надо извиниться перед ен .\n",
      "сегодня мной видел скворца .\n",
      "« сколько стоить та носовая косыночка ? — « девять со двадцать аш со пять центов »\n",
      "раненные медведи , как правило , очень опасные .\n",
      "он быстро устает .\n",
      "все готовы .\n",
      "он скучает по своей семь со мье .\n",
      "« спасибо » — « по здоровье со мной »\n",
      "мной ещe не знаю своего адреса , мной определенный момент буду жить во подруги .\n",
      "амазонка — вторая по длине река во мире после трепещущая .\n",
      "а если увидишь тома , передай ему от меня поздравления .\n",
      "закрой за собой дверь .\n",
      "держи при себе словарь .\n"
     ]
    }
   ],
   "source": [
    "for sent in uk_corpus[::10]:\n",
    "    print(translate_smart(sent))"
   ]
  },
  {
   "cell_type": "code",
   "execution_count": null,
   "metadata": {},
   "outputs": [],
   "source": []
  }
 ],
 "metadata": {
  "anaconda-cloud": {},
  "colab": {
   "collapsed_sections": [],
   "machine_shape": "hm",
   "name": "homework.ipynb",
   "provenance": []
  },
  "kernelspec": {
   "display_name": "Py3 study",
   "language": "python",
   "name": "py3_study"
  },
  "language_info": {
   "codemirror_mode": {
    "name": "ipython",
    "version": 3
   },
   "file_extension": ".py",
   "mimetype": "text/x-python",
   "name": "python",
   "nbconvert_exporter": "python",
   "pygments_lexer": "ipython3",
   "version": "3.7.1"
  }
 },
 "nbformat": 4,
 "nbformat_minor": 1
}
